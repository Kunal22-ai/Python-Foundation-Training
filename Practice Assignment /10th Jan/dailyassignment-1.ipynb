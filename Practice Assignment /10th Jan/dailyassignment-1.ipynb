{
 "cells": [
  {
   "cell_type": "markdown",
   "id": "1d8eda57",
   "metadata": {},
   "source": [
    "## Assignment Day-2 \n",
    "## Kunal Sudhir Mishra"
   ]
  },
  {
   "cell_type": "markdown",
   "id": "5ae0e1a9",
   "metadata": {},
   "source": [
    "Qn-1 \n",
    "Given an input string and a dictionary of words, find out if the input string can be segmented into a space-separated sequence of dictionary words. See following examples for more details. \n",
    "This is a famous Google interview question, also being asked by many other companies now a days.\n",
    "Consider the following dictionary \n",
    "{ i, like, sam, sung, samsung, mobile, ice, \n",
    "  cream, icecream, man, go, mango}\n",
    "Input:  ilike\n",
    "Output: Yes \n",
    "The string can be segmented as \"i like\".\n",
    "Input:  ilikesamsung\n",
    "Output: Yes\n",
    "The string can be segmented as \"i like samsung\" \n",
    "or \"i like sam sung\".\n"
   ]
  },
  {
   "cell_type": "code",
   "execution_count": 5,
   "id": "d2250c05",
   "metadata": {},
   "outputs": [
    {
     "name": "stdout",
     "output_type": "stream",
     "text": [
      "Output for 'ilike': Yes\n",
      "Output for 'ilikesamsung': Yes\n"
     ]
    }
   ],
   "source": [
    "def word_break(s, word_dict):\n",
    "    n = len(s)\n",
    "    \n",
    "    dp = [False] * (n + 1)\n",
    "    dp[0] = True  \n",
    "    for i in range(1, n + 1):\n",
    "        for j in range(i):\n",
    "            \n",
    "            if dp[j] and s[j:i] in word_dict:\n",
    "                dp[i] = True\n",
    "                break\n",
    "\n",
    "    return dp[n]\n",
    "\n",
    "input_str1 = \"ilike\"\n",
    "output1 = word_break(input_str1, word_dict)\n",
    "print(f\"Output for '{input_str1}': {'Yes' if output1 else 'No'}\")\n",
    "\n",
    "input_str2 = \"ilikesamsung\"\n",
    "output2 = word_break(input_str2, word_dict)\n",
    "print(f\"Output for '{input_str2}': {'Yes' if output2 else 'No'}\")"
   ]
  },
  {
   "cell_type": "markdown",
   "id": "7f811a66",
   "metadata": {},
   "source": [
    "Qn-2 \n",
    "A number can always be represented as a sum of squares of other numbers. Note that 1 is a square and we can always break a number as (1*1 + 1*1 + 1*1 + …). Given a number n, find the minimum number of squares that sum to X.\n",
    "Examples : \n",
    "Input:  n = 100\n",
    "Output: 1\n",
    "Explanation:\n",
    "100 can be written as 10^2. Note that 100 can also be written as 5^2 + 5^2 + 5^2 + 5^2, but this representation requires 4 squares.\n",
    "Input:  n = 6\n",
    "Output: 3 \n"
   ]
  },
  {
   "cell_type": "code",
   "execution_count": 14,
   "id": "327fb879",
   "metadata": {},
   "outputs": [
    {
     "name": "stdout",
     "output_type": "stream",
     "text": [
      "The minimum number of squares for 100 is 1.\n",
      "The minimum number of squares for 6 is 3.\n"
     ]
    }
   ],
   "source": [
    "def min_squares(n):\n",
    "   \n",
    "    dp = [float('inf')] * (n + 1)\n",
    "    dp[0] = 0  \n",
    "    \n",
    "    for i in range(1, n + 1):\n",
    "        j = 1\n",
    "        while j * j <= i:\n",
    "            dp[i] = min(dp[i], dp[i - j*j] + 1)\n",
    "            j += 1\n",
    "\n",
    "    return dp[n]\n",
    "\n",
    "\n",
    "n1 = 100\n",
    "output1 = min_squares(n1)\n",
    "print(f\"The minimum number of squares for {n1} is {output1}.\")\n",
    "\n",
    "n2 = 6\n",
    "output2 = min_squares(n2)\n",
    "print(f\"The minimum number of squares for {n2} is {output2}.\")"
   ]
  },
  {
   "cell_type": "markdown",
   "id": "6bb31273",
   "metadata": {},
   "source": [
    "Qn-3 \n",
    "Given a number N, the task is to check if it is divisible by 7 or not.\n",
    "Note: You are not allowed to use the modulo operator, floating point arithmetic is also not allowed. \n",
    "Naive approach: A simple method is repeated subtraction. Following is another interesting method.\n",
    "Divisibility by 7 can be checked by a recursive method. A number of the form 10a + b is divisible by 7 if and only if a – 2b is divisible by 7. In other words, subtract twice the last digit from the number formed by the remaining digits. Continue to do this until a small number. \n",
    "Example: the number 371: 37 – (2×1) = 37 – 2 = 35; 3 – (2 × 5) = 3 – 10 = -7; thus, since -7 is divisible by 7, 371 is divisible by 7."
   ]
  },
  {
   "cell_type": "code",
   "execution_count": 11,
   "id": "b4303880",
   "metadata": {},
   "outputs": [
    {
     "name": "stdout",
     "output_type": "stream",
     "text": [
      "The minimum number of squares for 100 is 1.\n",
      "The minimum number of squares for 6 is 3.\n"
     ]
    }
   ],
   "source": [
    "def min_squares(n):\n",
    "   \n",
    "    dp = [float('inf')] * (n + 1)\n",
    "    dp[0] = 0  \n",
    "\n",
    "    \n",
    "    for i in range(1, n + 1):\n",
    "        j = 1\n",
    "        while j * j <= i:\n",
    "           \n",
    "            square = j * j\n",
    "            if square <= i:\n",
    "                dp[i] = min(dp[i], dp[i - square] + 1)\n",
    "            j += 1\n",
    "\n",
    "    return dp[n]\n",
    "\n",
    "n1 = 100\n",
    "output1 = min_squares(n1)\n",
    "print(f\"The minimum number of squares for {n1} is {output1}.\")\n",
    "\n",
    "n2 = 6\n",
    "output2 = min_squares(n2)\n",
    "print(f\"The minimum number of squares for {n2} is {output2}.\")"
   ]
  },
  {
   "cell_type": "markdown",
   "id": "5d0c38b5",
   "metadata": {},
   "source": [
    "Qn-4\n",
    "Find the n’th term in Look-and-say (Or Count and Say) Sequence. The look-and-say sequence is the sequence of the below integers: \n",
    "1, 11, 21, 1211, 111221, 312211, 13112221, 1113213211, … \n",
    "How is the above sequence generated? \n",
    "n’th term is generated by reading (n-1)’th term.\n",
    "The first term is \"1\"\n",
    "Second term is \"11\", generated by reading first term as \"One 1\" \n",
    "(There is one 1 in previous term)\n",
    "Third term is \"21\", generated by reading second term as \"Two 1\"\n",
    "Fourth term is \"1211\", generated by reading third term as \"One 2 One 1\" \n",
    "and so on \n"
   ]
  },
  {
   "cell_type": "code",
   "execution_count": 12,
   "id": "b8fe443b",
   "metadata": {},
   "outputs": [
    {
     "name": "stdout",
     "output_type": "stream",
     "text": [
      "The 6th term in the Look-and-Say sequence is: 312211\n"
     ]
    }
   ],
   "source": [
    "def look_and_say(n):\n",
    "    if n == 1:\n",
    "        return \"1\"\n",
    "    \n",
    "    prev_term = \"1\"\n",
    "    for _ in range(n - 1):\n",
    "        new_term = \"\"\n",
    "        count = 1\n",
    "        \n",
    "        for i in range(1, len(prev_term)):\n",
    "            if prev_term[i] == prev_term[i - 1]:\n",
    "                count += 1\n",
    "            else:\n",
    "                new_term += str(count) + prev_term[i - 1]\n",
    "                count = 1\n",
    "        \n",
    "        new_term += str(count) + prev_term[-1]\n",
    "        prev_term = new_term\n",
    "    \n",
    "    return prev_term\n",
    "\n",
    "\n",
    "n = 6\n",
    "result = look_and_say(n)\n",
    "print(f\"The {n}th term in the Look-and-Say sequence is: {result}\")"
   ]
  },
  {
   "cell_type": "code",
   "execution_count": null,
   "id": "6f207da5",
   "metadata": {},
   "outputs": [],
   "source": []
  }
 ],
 "metadata": {
  "kernelspec": {
   "display_name": "Python 3 (ipykernel)",
   "language": "python",
   "name": "python3"
  },
  "language_info": {
   "codemirror_mode": {
    "name": "ipython",
    "version": 3
   },
   "file_extension": ".py",
   "mimetype": "text/x-python",
   "name": "python",
   "nbconvert_exporter": "python",
   "pygments_lexer": "ipython3",
   "version": "3.9.13"
  }
 },
 "nbformat": 4,
 "nbformat_minor": 5
}
